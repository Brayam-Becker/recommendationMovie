{
  "nbformat": 4,
  "nbformat_minor": 0,
  "metadata": {
    "colab": {
      "name": "Untitled2.ipynb",
      "provenance": [],
      "authorship_tag": "ABX9TyPOuAINq96MhQIERp5zKMek",
      "include_colab_link": true
    },
    "kernelspec": {
      "name": "python3",
      "display_name": "Python 3"
    },
    "language_info": {
      "name": "python"
    }
  },
  "cells": [
    {
      "cell_type": "markdown",
      "metadata": {
        "id": "view-in-github",
        "colab_type": "text"
      },
      "source": [
        "<a href=\"https://colab.research.google.com/github/Brayam-Becker/recommendationMovie/blob/main/Untitled2.ipynb\" target=\"_parent\"><img src=\"https://colab.research.google.com/assets/colab-badge.svg\" alt=\"Open In Colab\"/></a>"
      ]
    },
    {
      "cell_type": "code",
      "execution_count": null,
      "metadata": {
        "id": "4Mnz4QjOxnVH"
      },
      "outputs": [],
      "source": [
        "# Description: Biuld a Movie Recommendation engine using python"
      ]
    },
    {
      "cell_type": "code",
      "source": [
        "#Import the libraries\n",
        "import pandas as pd\n",
        "import numpy as np\n",
        "from sklearn.metrics.pairwise import cosine_similarity\n",
        "from sklearn.feature_extraction.text import CountVectorizer"
      ],
      "metadata": {
        "id": "EoPoO0nCxt5l"
      },
      "execution_count": 5,
      "outputs": []
    },
    {
      "cell_type": "code",
      "source": [
        "#Load the data \n",
        "from google.colab import files \n",
        "uploaded = files.upload()"
      ],
      "metadata": {
        "colab": {
          "resources": {
            "http://localhost:8080/nbextensions/google.colab/files.js": {
              "data": "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",
              "ok": true,
              "headers": [
                [
                  "content-type",
                  "application/javascript"
                ]
              ],
              "status": 200,
              "status_text": ""
            }
          },
          "base_uri": "https://localhost:8080/",
          "height": 73
        },
        "id": "tyhKo5cex_zp",
        "outputId": "46e70787-7beb-42ce-ef46-ce1d17dd3ceb"
      },
      "execution_count": 1,
      "outputs": [
        {
          "output_type": "display_data",
          "data": {
            "text/html": [
              "\n",
              "     <input type=\"file\" id=\"files-611270fe-30dd-4a0a-95f8-c0b07957bb2c\" name=\"files[]\" multiple disabled\n",
              "        style=\"border:none\" />\n",
              "     <output id=\"result-611270fe-30dd-4a0a-95f8-c0b07957bb2c\">\n",
              "      Upload widget is only available when the cell has been executed in the\n",
              "      current browser session. Please rerun this cell to enable.\n",
              "      </output>\n",
              "      <script src=\"/nbextensions/google.colab/files.js\"></script> "
            ],
            "text/plain": [
              "<IPython.core.display.HTML object>"
            ]
          },
          "metadata": {}
        },
        {
          "output_type": "stream",
          "name": "stdout",
          "text": [
            "Saving IMDB-Movie-Data.csv to IMDB-Movie-Data.csv\n"
          ]
        }
      ]
    },
    {
      "cell_type": "code",
      "source": [
        "#Store the data\n",
        "df = pd.read_csv('IMDB-Movie-Data.csv')\n",
        "#show the first 3 rows of data \n",
        "df.head(3)"
      ],
      "metadata": {
        "colab": {
          "base_uri": "https://localhost:8080/",
          "height": 143
        },
        "id": "AAKXkPKHylYY",
        "outputId": "78d01cc2-d8f2-4146-8903-9c4bc0901c7b"
      },
      "execution_count": 6,
      "outputs": [
        {
          "output_type": "execute_result",
          "data": {
            "text/html": [
              "\n",
              "  <div id=\"df-0c549804-c9da-4399-8631-dad6bc44f591\">\n",
              "    <div class=\"colab-df-container\">\n",
              "      <div>\n",
              "<style scoped>\n",
              "    .dataframe tbody tr th:only-of-type {\n",
              "        vertical-align: middle;\n",
              "    }\n",
              "\n",
              "    .dataframe tbody tr th {\n",
              "        vertical-align: top;\n",
              "    }\n",
              "\n",
              "    .dataframe thead th {\n",
              "        text-align: right;\n",
              "    }\n",
              "</style>\n",
              "<table border=\"1\" class=\"dataframe\">\n",
              "  <thead>\n",
              "    <tr style=\"text-align: right;\">\n",
              "      <th></th>\n",
              "      <th>Rank</th>\n",
              "      <th>Title</th>\n",
              "      <th>Genre</th>\n",
              "      <th>Description</th>\n",
              "      <th>Director</th>\n",
              "      <th>Actors</th>\n",
              "      <th>Year</th>\n",
              "      <th>Runtime (Minutes)</th>\n",
              "      <th>Rating</th>\n",
              "      <th>Votes</th>\n",
              "      <th>Revenue (Millions)</th>\n",
              "      <th>Metascore</th>\n",
              "    </tr>\n",
              "  </thead>\n",
              "  <tbody>\n",
              "    <tr>\n",
              "      <th>0</th>\n",
              "      <td>1</td>\n",
              "      <td>Guardians of the Galaxy</td>\n",
              "      <td>Action,Adventure,Sci-Fi</td>\n",
              "      <td>A group of intergalactic criminals are forced ...</td>\n",
              "      <td>James Gunn</td>\n",
              "      <td>Chris Pratt, Vin Diesel, Bradley Cooper, Zoe S...</td>\n",
              "      <td>2014</td>\n",
              "      <td>121</td>\n",
              "      <td>8.1</td>\n",
              "      <td>757074</td>\n",
              "      <td>333.13</td>\n",
              "      <td>76.0</td>\n",
              "    </tr>\n",
              "    <tr>\n",
              "      <th>1</th>\n",
              "      <td>2</td>\n",
              "      <td>Prometheus</td>\n",
              "      <td>Adventure,Mystery,Sci-Fi</td>\n",
              "      <td>Following clues to the origin of mankind, a te...</td>\n",
              "      <td>Ridley Scott</td>\n",
              "      <td>Noomi Rapace, Logan Marshall-Green, Michael Fa...</td>\n",
              "      <td>2012</td>\n",
              "      <td>124</td>\n",
              "      <td>7.0</td>\n",
              "      <td>485820</td>\n",
              "      <td>126.46</td>\n",
              "      <td>65.0</td>\n",
              "    </tr>\n",
              "    <tr>\n",
              "      <th>2</th>\n",
              "      <td>3</td>\n",
              "      <td>Split</td>\n",
              "      <td>Horror,Thriller</td>\n",
              "      <td>Three girls are kidnapped by a man with a diag...</td>\n",
              "      <td>M. Night Shyamalan</td>\n",
              "      <td>James McAvoy, Anya Taylor-Joy, Haley Lu Richar...</td>\n",
              "      <td>2016</td>\n",
              "      <td>117</td>\n",
              "      <td>7.3</td>\n",
              "      <td>157606</td>\n",
              "      <td>138.12</td>\n",
              "      <td>62.0</td>\n",
              "    </tr>\n",
              "  </tbody>\n",
              "</table>\n",
              "</div>\n",
              "      <button class=\"colab-df-convert\" onclick=\"convertToInteractive('df-0c549804-c9da-4399-8631-dad6bc44f591')\"\n",
              "              title=\"Convert this dataframe to an interactive table.\"\n",
              "              style=\"display:none;\">\n",
              "        \n",
              "  <svg xmlns=\"http://www.w3.org/2000/svg\" height=\"24px\"viewBox=\"0 0 24 24\"\n",
              "       width=\"24px\">\n",
              "    <path d=\"M0 0h24v24H0V0z\" fill=\"none\"/>\n",
              "    <path d=\"M18.56 5.44l.94 2.06.94-2.06 2.06-.94-2.06-.94-.94-2.06-.94 2.06-2.06.94zm-11 1L8.5 8.5l.94-2.06 2.06-.94-2.06-.94L8.5 2.5l-.94 2.06-2.06.94zm10 10l.94 2.06.94-2.06 2.06-.94-2.06-.94-.94-2.06-.94 2.06-2.06.94z\"/><path d=\"M17.41 7.96l-1.37-1.37c-.4-.4-.92-.59-1.43-.59-.52 0-1.04.2-1.43.59L10.3 9.45l-7.72 7.72c-.78.78-.78 2.05 0 2.83L4 21.41c.39.39.9.59 1.41.59.51 0 1.02-.2 1.41-.59l7.78-7.78 2.81-2.81c.8-.78.8-2.07 0-2.86zM5.41 20L4 18.59l7.72-7.72 1.47 1.35L5.41 20z\"/>\n",
              "  </svg>\n",
              "      </button>\n",
              "      \n",
              "  <style>\n",
              "    .colab-df-container {\n",
              "      display:flex;\n",
              "      flex-wrap:wrap;\n",
              "      gap: 12px;\n",
              "    }\n",
              "\n",
              "    .colab-df-convert {\n",
              "      background-color: #E8F0FE;\n",
              "      border: none;\n",
              "      border-radius: 50%;\n",
              "      cursor: pointer;\n",
              "      display: none;\n",
              "      fill: #1967D2;\n",
              "      height: 32px;\n",
              "      padding: 0 0 0 0;\n",
              "      width: 32px;\n",
              "    }\n",
              "\n",
              "    .colab-df-convert:hover {\n",
              "      background-color: #E2EBFA;\n",
              "      box-shadow: 0px 1px 2px rgba(60, 64, 67, 0.3), 0px 1px 3px 1px rgba(60, 64, 67, 0.15);\n",
              "      fill: #174EA6;\n",
              "    }\n",
              "\n",
              "    [theme=dark] .colab-df-convert {\n",
              "      background-color: #3B4455;\n",
              "      fill: #D2E3FC;\n",
              "    }\n",
              "\n",
              "    [theme=dark] .colab-df-convert:hover {\n",
              "      background-color: #434B5C;\n",
              "      box-shadow: 0px 1px 3px 1px rgba(0, 0, 0, 0.15);\n",
              "      filter: drop-shadow(0px 1px 2px rgba(0, 0, 0, 0.3));\n",
              "      fill: #FFFFFF;\n",
              "    }\n",
              "  </style>\n",
              "\n",
              "      <script>\n",
              "        const buttonEl =\n",
              "          document.querySelector('#df-0c549804-c9da-4399-8631-dad6bc44f591 button.colab-df-convert');\n",
              "        buttonEl.style.display =\n",
              "          google.colab.kernel.accessAllowed ? 'block' : 'none';\n",
              "\n",
              "        async function convertToInteractive(key) {\n",
              "          const element = document.querySelector('#df-0c549804-c9da-4399-8631-dad6bc44f591');\n",
              "          const dataTable =\n",
              "            await google.colab.kernel.invokeFunction('convertToInteractive',\n",
              "                                                     [key], {});\n",
              "          if (!dataTable) return;\n",
              "\n",
              "          const docLinkHtml = 'Like what you see? Visit the ' +\n",
              "            '<a target=\"_blank\" href=https://colab.research.google.com/notebooks/data_table.ipynb>data table notebook</a>'\n",
              "            + ' to learn more about interactive tables.';\n",
              "          element.innerHTML = '';\n",
              "          dataTable['output_type'] = 'display_data';\n",
              "          await google.colab.output.renderOutput(dataTable, element);\n",
              "          const docLink = document.createElement('div');\n",
              "          docLink.innerHTML = docLinkHtml;\n",
              "          element.appendChild(docLink);\n",
              "        }\n",
              "      </script>\n",
              "    </div>\n",
              "  </div>\n",
              "  "
            ],
            "text/plain": [
              "   Rank                    Title  ... Revenue (Millions) Metascore\n",
              "0     1  Guardians of the Galaxy  ...             333.13      76.0\n",
              "1     2               Prometheus  ...             126.46      65.0\n",
              "2     3                    Split  ...             138.12      62.0\n",
              "\n",
              "[3 rows x 12 columns]"
            ]
          },
          "metadata": {},
          "execution_count": 6
        }
      ]
    },
    {
      "cell_type": "code",
      "source": [
        "#Get a count of the number of rows and movies in the data set and numbers of colunms\n",
        "df.shape"
      ],
      "metadata": {
        "colab": {
          "base_uri": "https://localhost:8080/"
        },
        "id": "PbDAmec3zeGH",
        "outputId": "feef903d-c9a0-4a95-85b9-285a1ad12b7f"
      },
      "execution_count": 9,
      "outputs": [
        {
          "output_type": "execute_result",
          "data": {
            "text/plain": [
              "(1000, 13)"
            ]
          },
          "metadata": {},
          "execution_count": 9
        }
      ]
    },
    {
      "cell_type": "code",
      "source": [
        "df['Movie_id'] = range(0,1000)"
      ],
      "metadata": {
        "id": "ps6_c_5pz_Qd"
      },
      "execution_count": 8,
      "outputs": []
    },
    {
      "cell_type": "code",
      "source": [
        "#Create a list of import colunms for recommendation engine\n",
        "colunms = ['Actors', 'Director', 'Genre', 'Title']"
      ],
      "metadata": {
        "id": "zhMIlgrt0DWp"
      },
      "execution_count": 10,
      "outputs": []
    },
    {
      "cell_type": "code",
      "source": [
        "#Show the data \n",
        "df[colunms].head(3)"
      ],
      "metadata": {
        "colab": {
          "base_uri": "https://localhost:8080/",
          "height": 143
        },
        "id": "Ndqt-89O0XcI",
        "outputId": "9abf6187-b05a-4b98-8921-64faa3e36572"
      },
      "execution_count": 11,
      "outputs": [
        {
          "output_type": "execute_result",
          "data": {
            "text/html": [
              "\n",
              "  <div id=\"df-c919fa3f-7b6a-4587-bc09-1d1d51af29ca\">\n",
              "    <div class=\"colab-df-container\">\n",
              "      <div>\n",
              "<style scoped>\n",
              "    .dataframe tbody tr th:only-of-type {\n",
              "        vertical-align: middle;\n",
              "    }\n",
              "\n",
              "    .dataframe tbody tr th {\n",
              "        vertical-align: top;\n",
              "    }\n",
              "\n",
              "    .dataframe thead th {\n",
              "        text-align: right;\n",
              "    }\n",
              "</style>\n",
              "<table border=\"1\" class=\"dataframe\">\n",
              "  <thead>\n",
              "    <tr style=\"text-align: right;\">\n",
              "      <th></th>\n",
              "      <th>Actors</th>\n",
              "      <th>Director</th>\n",
              "      <th>Genre</th>\n",
              "      <th>Title</th>\n",
              "    </tr>\n",
              "  </thead>\n",
              "  <tbody>\n",
              "    <tr>\n",
              "      <th>0</th>\n",
              "      <td>Chris Pratt, Vin Diesel, Bradley Cooper, Zoe S...</td>\n",
              "      <td>James Gunn</td>\n",
              "      <td>Action,Adventure,Sci-Fi</td>\n",
              "      <td>Guardians of the Galaxy</td>\n",
              "    </tr>\n",
              "    <tr>\n",
              "      <th>1</th>\n",
              "      <td>Noomi Rapace, Logan Marshall-Green, Michael Fa...</td>\n",
              "      <td>Ridley Scott</td>\n",
              "      <td>Adventure,Mystery,Sci-Fi</td>\n",
              "      <td>Prometheus</td>\n",
              "    </tr>\n",
              "    <tr>\n",
              "      <th>2</th>\n",
              "      <td>James McAvoy, Anya Taylor-Joy, Haley Lu Richar...</td>\n",
              "      <td>M. Night Shyamalan</td>\n",
              "      <td>Horror,Thriller</td>\n",
              "      <td>Split</td>\n",
              "    </tr>\n",
              "  </tbody>\n",
              "</table>\n",
              "</div>\n",
              "      <button class=\"colab-df-convert\" onclick=\"convertToInteractive('df-c919fa3f-7b6a-4587-bc09-1d1d51af29ca')\"\n",
              "              title=\"Convert this dataframe to an interactive table.\"\n",
              "              style=\"display:none;\">\n",
              "        \n",
              "  <svg xmlns=\"http://www.w3.org/2000/svg\" height=\"24px\"viewBox=\"0 0 24 24\"\n",
              "       width=\"24px\">\n",
              "    <path d=\"M0 0h24v24H0V0z\" fill=\"none\"/>\n",
              "    <path d=\"M18.56 5.44l.94 2.06.94-2.06 2.06-.94-2.06-.94-.94-2.06-.94 2.06-2.06.94zm-11 1L8.5 8.5l.94-2.06 2.06-.94-2.06-.94L8.5 2.5l-.94 2.06-2.06.94zm10 10l.94 2.06.94-2.06 2.06-.94-2.06-.94-.94-2.06-.94 2.06-2.06.94z\"/><path d=\"M17.41 7.96l-1.37-1.37c-.4-.4-.92-.59-1.43-.59-.52 0-1.04.2-1.43.59L10.3 9.45l-7.72 7.72c-.78.78-.78 2.05 0 2.83L4 21.41c.39.39.9.59 1.41.59.51 0 1.02-.2 1.41-.59l7.78-7.78 2.81-2.81c.8-.78.8-2.07 0-2.86zM5.41 20L4 18.59l7.72-7.72 1.47 1.35L5.41 20z\"/>\n",
              "  </svg>\n",
              "      </button>\n",
              "      \n",
              "  <style>\n",
              "    .colab-df-container {\n",
              "      display:flex;\n",
              "      flex-wrap:wrap;\n",
              "      gap: 12px;\n",
              "    }\n",
              "\n",
              "    .colab-df-convert {\n",
              "      background-color: #E8F0FE;\n",
              "      border: none;\n",
              "      border-radius: 50%;\n",
              "      cursor: pointer;\n",
              "      display: none;\n",
              "      fill: #1967D2;\n",
              "      height: 32px;\n",
              "      padding: 0 0 0 0;\n",
              "      width: 32px;\n",
              "    }\n",
              "\n",
              "    .colab-df-convert:hover {\n",
              "      background-color: #E2EBFA;\n",
              "      box-shadow: 0px 1px 2px rgba(60, 64, 67, 0.3), 0px 1px 3px 1px rgba(60, 64, 67, 0.15);\n",
              "      fill: #174EA6;\n",
              "    }\n",
              "\n",
              "    [theme=dark] .colab-df-convert {\n",
              "      background-color: #3B4455;\n",
              "      fill: #D2E3FC;\n",
              "    }\n",
              "\n",
              "    [theme=dark] .colab-df-convert:hover {\n",
              "      background-color: #434B5C;\n",
              "      box-shadow: 0px 1px 3px 1px rgba(0, 0, 0, 0.15);\n",
              "      filter: drop-shadow(0px 1px 2px rgba(0, 0, 0, 0.3));\n",
              "      fill: #FFFFFF;\n",
              "    }\n",
              "  </style>\n",
              "\n",
              "      <script>\n",
              "        const buttonEl =\n",
              "          document.querySelector('#df-c919fa3f-7b6a-4587-bc09-1d1d51af29ca button.colab-df-convert');\n",
              "        buttonEl.style.display =\n",
              "          google.colab.kernel.accessAllowed ? 'block' : 'none';\n",
              "\n",
              "        async function convertToInteractive(key) {\n",
              "          const element = document.querySelector('#df-c919fa3f-7b6a-4587-bc09-1d1d51af29ca');\n",
              "          const dataTable =\n",
              "            await google.colab.kernel.invokeFunction('convertToInteractive',\n",
              "                                                     [key], {});\n",
              "          if (!dataTable) return;\n",
              "\n",
              "          const docLinkHtml = 'Like what you see? Visit the ' +\n",
              "            '<a target=\"_blank\" href=https://colab.research.google.com/notebooks/data_table.ipynb>data table notebook</a>'\n",
              "            + ' to learn more about interactive tables.';\n",
              "          element.innerHTML = '';\n",
              "          dataTable['output_type'] = 'display_data';\n",
              "          await google.colab.output.renderOutput(dataTable, element);\n",
              "          const docLink = document.createElement('div');\n",
              "          docLink.innerHTML = docLinkHtml;\n",
              "          element.appendChild(docLink);\n",
              "        }\n",
              "      </script>\n",
              "    </div>\n",
              "  </div>\n",
              "  "
            ],
            "text/plain": [
              "                                              Actors  ...                    Title\n",
              "0  Chris Pratt, Vin Diesel, Bradley Cooper, Zoe S...  ...  Guardians of the Galaxy\n",
              "1  Noomi Rapace, Logan Marshall-Green, Michael Fa...  ...               Prometheus\n",
              "2  James McAvoy, Anya Taylor-Joy, Haley Lu Richar...  ...                    Split\n",
              "\n",
              "[3 rows x 4 columns]"
            ]
          },
          "metadata": {},
          "execution_count": 11
        }
      ]
    },
    {
      "cell_type": "code",
      "source": [
        "#Check any missing values in the important coluns\n",
        "df[colunms].isnull().values.any()"
      ],
      "metadata": {
        "colab": {
          "base_uri": "https://localhost:8080/"
        },
        "id": "uwKWsnIC0kmY",
        "outputId": "744e158a-2b94-4521-98c5-12c5a15b52ea"
      },
      "execution_count": 12,
      "outputs": [
        {
          "output_type": "execute_result",
          "data": {
            "text/plain": [
              "False"
            ]
          },
          "metadata": {},
          "execution_count": 12
        }
      ]
    },
    {
      "cell_type": "code",
      "source": [
        "#Create a function to combine the values os the important colunms into a single string\n",
        "def get_important_features(data):\n",
        "  important_features=[]\n",
        "  for i in range(0, data.shape[0]):\n",
        "    important_features.append(data['Actors'][i] + ' ' + data['Director'][i] + data['Genre'][i] + ' ' + data['Title'][i])\n",
        "  return important_features"
      ],
      "metadata": {
        "id": "GbLfvPxd0ve6"
      },
      "execution_count": 13,
      "outputs": []
    },
    {
      "cell_type": "code",
      "source": [
        "# Create a colunm to hold the combine strings\n",
        "df['import_features'] = get_important_features(df)\n",
        "\n",
        "#Show data\n",
        "df.head(3)"
      ],
      "metadata": {
        "colab": {
          "base_uri": "https://localhost:8080/",
          "height": 257
        },
        "id": "TCI8hJdb1pS3",
        "outputId": "4bfd0e99-aaf2-48ff-dbc5-76cc0605d2d3"
      },
      "execution_count": 15,
      "outputs": [
        {
          "output_type": "execute_result",
          "data": {
            "text/html": [
              "\n",
              "  <div id=\"df-0b3f02d7-e0b3-4a9d-8b97-3a60c95e887d\">\n",
              "    <div class=\"colab-df-container\">\n",
              "      <div>\n",
              "<style scoped>\n",
              "    .dataframe tbody tr th:only-of-type {\n",
              "        vertical-align: middle;\n",
              "    }\n",
              "\n",
              "    .dataframe tbody tr th {\n",
              "        vertical-align: top;\n",
              "    }\n",
              "\n",
              "    .dataframe thead th {\n",
              "        text-align: right;\n",
              "    }\n",
              "</style>\n",
              "<table border=\"1\" class=\"dataframe\">\n",
              "  <thead>\n",
              "    <tr style=\"text-align: right;\">\n",
              "      <th></th>\n",
              "      <th>Rank</th>\n",
              "      <th>Title</th>\n",
              "      <th>Genre</th>\n",
              "      <th>Description</th>\n",
              "      <th>Director</th>\n",
              "      <th>Actors</th>\n",
              "      <th>Year</th>\n",
              "      <th>Runtime (Minutes)</th>\n",
              "      <th>Rating</th>\n",
              "      <th>Votes</th>\n",
              "      <th>Revenue (Millions)</th>\n",
              "      <th>Metascore</th>\n",
              "      <th>Movie_id</th>\n",
              "      <th>import_features</th>\n",
              "    </tr>\n",
              "  </thead>\n",
              "  <tbody>\n",
              "    <tr>\n",
              "      <th>0</th>\n",
              "      <td>1</td>\n",
              "      <td>Guardians of the Galaxy</td>\n",
              "      <td>Action,Adventure,Sci-Fi</td>\n",
              "      <td>A group of intergalactic criminals are forced ...</td>\n",
              "      <td>James Gunn</td>\n",
              "      <td>Chris Pratt, Vin Diesel, Bradley Cooper, Zoe S...</td>\n",
              "      <td>2014</td>\n",
              "      <td>121</td>\n",
              "      <td>8.1</td>\n",
              "      <td>757074</td>\n",
              "      <td>333.13</td>\n",
              "      <td>76.0</td>\n",
              "      <td>0</td>\n",
              "      <td>Chris Pratt, Vin Diesel, Bradley Cooper, Zoe S...</td>\n",
              "    </tr>\n",
              "    <tr>\n",
              "      <th>1</th>\n",
              "      <td>2</td>\n",
              "      <td>Prometheus</td>\n",
              "      <td>Adventure,Mystery,Sci-Fi</td>\n",
              "      <td>Following clues to the origin of mankind, a te...</td>\n",
              "      <td>Ridley Scott</td>\n",
              "      <td>Noomi Rapace, Logan Marshall-Green, Michael Fa...</td>\n",
              "      <td>2012</td>\n",
              "      <td>124</td>\n",
              "      <td>7.0</td>\n",
              "      <td>485820</td>\n",
              "      <td>126.46</td>\n",
              "      <td>65.0</td>\n",
              "      <td>1</td>\n",
              "      <td>Noomi Rapace, Logan Marshall-Green, Michael Fa...</td>\n",
              "    </tr>\n",
              "    <tr>\n",
              "      <th>2</th>\n",
              "      <td>3</td>\n",
              "      <td>Split</td>\n",
              "      <td>Horror,Thriller</td>\n",
              "      <td>Three girls are kidnapped by a man with a diag...</td>\n",
              "      <td>M. Night Shyamalan</td>\n",
              "      <td>James McAvoy, Anya Taylor-Joy, Haley Lu Richar...</td>\n",
              "      <td>2016</td>\n",
              "      <td>117</td>\n",
              "      <td>7.3</td>\n",
              "      <td>157606</td>\n",
              "      <td>138.12</td>\n",
              "      <td>62.0</td>\n",
              "      <td>2</td>\n",
              "      <td>James McAvoy, Anya Taylor-Joy, Haley Lu Richar...</td>\n",
              "    </tr>\n",
              "  </tbody>\n",
              "</table>\n",
              "</div>\n",
              "      <button class=\"colab-df-convert\" onclick=\"convertToInteractive('df-0b3f02d7-e0b3-4a9d-8b97-3a60c95e887d')\"\n",
              "              title=\"Convert this dataframe to an interactive table.\"\n",
              "              style=\"display:none;\">\n",
              "        \n",
              "  <svg xmlns=\"http://www.w3.org/2000/svg\" height=\"24px\"viewBox=\"0 0 24 24\"\n",
              "       width=\"24px\">\n",
              "    <path d=\"M0 0h24v24H0V0z\" fill=\"none\"/>\n",
              "    <path d=\"M18.56 5.44l.94 2.06.94-2.06 2.06-.94-2.06-.94-.94-2.06-.94 2.06-2.06.94zm-11 1L8.5 8.5l.94-2.06 2.06-.94-2.06-.94L8.5 2.5l-.94 2.06-2.06.94zm10 10l.94 2.06.94-2.06 2.06-.94-2.06-.94-.94-2.06-.94 2.06-2.06.94z\"/><path d=\"M17.41 7.96l-1.37-1.37c-.4-.4-.92-.59-1.43-.59-.52 0-1.04.2-1.43.59L10.3 9.45l-7.72 7.72c-.78.78-.78 2.05 0 2.83L4 21.41c.39.39.9.59 1.41.59.51 0 1.02-.2 1.41-.59l7.78-7.78 2.81-2.81c.8-.78.8-2.07 0-2.86zM5.41 20L4 18.59l7.72-7.72 1.47 1.35L5.41 20z\"/>\n",
              "  </svg>\n",
              "      </button>\n",
              "      \n",
              "  <style>\n",
              "    .colab-df-container {\n",
              "      display:flex;\n",
              "      flex-wrap:wrap;\n",
              "      gap: 12px;\n",
              "    }\n",
              "\n",
              "    .colab-df-convert {\n",
              "      background-color: #E8F0FE;\n",
              "      border: none;\n",
              "      border-radius: 50%;\n",
              "      cursor: pointer;\n",
              "      display: none;\n",
              "      fill: #1967D2;\n",
              "      height: 32px;\n",
              "      padding: 0 0 0 0;\n",
              "      width: 32px;\n",
              "    }\n",
              "\n",
              "    .colab-df-convert:hover {\n",
              "      background-color: #E2EBFA;\n",
              "      box-shadow: 0px 1px 2px rgba(60, 64, 67, 0.3), 0px 1px 3px 1px rgba(60, 64, 67, 0.15);\n",
              "      fill: #174EA6;\n",
              "    }\n",
              "\n",
              "    [theme=dark] .colab-df-convert {\n",
              "      background-color: #3B4455;\n",
              "      fill: #D2E3FC;\n",
              "    }\n",
              "\n",
              "    [theme=dark] .colab-df-convert:hover {\n",
              "      background-color: #434B5C;\n",
              "      box-shadow: 0px 1px 3px 1px rgba(0, 0, 0, 0.15);\n",
              "      filter: drop-shadow(0px 1px 2px rgba(0, 0, 0, 0.3));\n",
              "      fill: #FFFFFF;\n",
              "    }\n",
              "  </style>\n",
              "\n",
              "      <script>\n",
              "        const buttonEl =\n",
              "          document.querySelector('#df-0b3f02d7-e0b3-4a9d-8b97-3a60c95e887d button.colab-df-convert');\n",
              "        buttonEl.style.display =\n",
              "          google.colab.kernel.accessAllowed ? 'block' : 'none';\n",
              "\n",
              "        async function convertToInteractive(key) {\n",
              "          const element = document.querySelector('#df-0b3f02d7-e0b3-4a9d-8b97-3a60c95e887d');\n",
              "          const dataTable =\n",
              "            await google.colab.kernel.invokeFunction('convertToInteractive',\n",
              "                                                     [key], {});\n",
              "          if (!dataTable) return;\n",
              "\n",
              "          const docLinkHtml = 'Like what you see? Visit the ' +\n",
              "            '<a target=\"_blank\" href=https://colab.research.google.com/notebooks/data_table.ipynb>data table notebook</a>'\n",
              "            + ' to learn more about interactive tables.';\n",
              "          element.innerHTML = '';\n",
              "          dataTable['output_type'] = 'display_data';\n",
              "          await google.colab.output.renderOutput(dataTable, element);\n",
              "          const docLink = document.createElement('div');\n",
              "          docLink.innerHTML = docLinkHtml;\n",
              "          element.appendChild(docLink);\n",
              "        }\n",
              "      </script>\n",
              "    </div>\n",
              "  </div>\n",
              "  "
            ],
            "text/plain": [
              "   Rank  ...                                    import_features\n",
              "0     1  ...  Chris Pratt, Vin Diesel, Bradley Cooper, Zoe S...\n",
              "1     2  ...  Noomi Rapace, Logan Marshall-Green, Michael Fa...\n",
              "2     3  ...  James McAvoy, Anya Taylor-Joy, Haley Lu Richar...\n",
              "\n",
              "[3 rows x 14 columns]"
            ]
          },
          "metadata": {},
          "execution_count": 15
        }
      ]
    },
    {
      "cell_type": "code",
      "source": [
        "#Convert the text to a matrix of tokens counts\n",
        "cm = CountVectorizer().fit_transform(df['import_features'])"
      ],
      "metadata": {
        "id": "4ZMwinAn2Ebi"
      },
      "execution_count": 17,
      "outputs": []
    },
    {
      "cell_type": "code",
      "source": [
        "#Get the cosine similarity matrix from the count matrix\n",
        "cs = cosine_similarity(cm)\n",
        "#print the cosine similarity matrix\n",
        "print(cs)"
      ],
      "metadata": {
        "colab": {
          "base_uri": "https://localhost:8080/"
        },
        "id": "Z3p1_IpP2fwT",
        "outputId": "53256fe9-7acd-4025-84b5-b2f7992e85e1"
      },
      "execution_count": 18,
      "outputs": [
        {
          "output_type": "stream",
          "name": "stdout",
          "text": [
            "[[1.         0.12524486 0.06482037 ... 0.06063391 0.         0.        ]\n",
            " [0.12524486 1.         0.         ... 0.         0.         0.        ]\n",
            " [0.06482037 0.         1.         ... 0.         0.         0.        ]\n",
            " ...\n",
            " [0.06063391 0.         0.         ... 1.         0.07216878 0.        ]\n",
            " [0.         0.         0.         ... 0.07216878 1.         0.        ]\n",
            " [0.         0.         0.         ... 0.         0.         1.        ]]\n"
          ]
        }
      ]
    },
    {
      "cell_type": "code",
      "source": [
        "#Get the shape of the cosine similarity matrix \n",
        "cs.shape"
      ],
      "metadata": {
        "colab": {
          "base_uri": "https://localhost:8080/"
        },
        "id": "cr8yIIvU29C6",
        "outputId": "119e3343-835e-4cd2-e9d2-2c66214326a1"
      },
      "execution_count": 19,
      "outputs": [
        {
          "output_type": "execute_result",
          "data": {
            "text/plain": [
              "(1000, 1000)"
            ]
          },
          "metadata": {},
          "execution_count": 19
        }
      ]
    },
    {
      "cell_type": "code",
      "source": [
        "#Get the title of the movie that user likes \n",
        "title = 'The Amazing Spider-Man'\n",
        "#Find the movies is\n",
        "movie_id = df[df.Title == title]['Movie_id'].values[0]"
      ],
      "metadata": {
        "id": "nu-mVlpG3G1b"
      },
      "execution_count": 21,
      "outputs": []
    },
    {
      "cell_type": "code",
      "source": [
        "#Create a list enumarations for the similarity score [(movie_id, similarity score), (...)]\n",
        "scores = list(enumerate(cs[movie_id]))"
      ],
      "metadata": {
        "id": "BrgwVq9Q3sEH"
      },
      "execution_count": 22,
      "outputs": []
    },
    {
      "cell_type": "code",
      "source": [
        "#Sort the list\n",
        "sorted_scores = sorted(scores, key = lambda x:x[1], reverse = True)\n",
        "sorted_scores = sorted_scores[1:]\n"
      ],
      "metadata": {
        "id": "DNhwiwUg4MWN"
      },
      "execution_count": 23,
      "outputs": []
    },
    {
      "cell_type": "code",
      "source": [
        "#Print the sorted scores\n",
        "print(sorted_scores)"
      ],
      "metadata": {
        "colab": {
          "base_uri": "https://localhost:8080/"
        },
        "id": "Np7UjQ3l40wI",
        "outputId": "bacbaac5-05a2-4bb2-f7ec-6e27c87e5d35"
      },
      "execution_count": 24,
      "outputs": [
        {
          "output_type": "stream",
          "name": "stdout",
          "text": [
            "[(253, 0.6888467201936642), (92, 0.21483446221182984), (149, 0.21483446221182984), (239, 0.20701966780270625), (303, 0.20701966780270625), (324, 0.20701966780270625), (344, 0.20701966780270625), (104, 0.19999999999999996), (821, 0.1878672873255448), (78, 0.17770466332772766), (558, 0.1732050807568877), (843, 0.1732050807568877), (739, 0.1690308509457033), (314, 0.16514456476895406), (767, 0.16151457061744964), (176, 0.15811388300841897), (613, 0.15491933384829668), (313, 0.15491933384829665), (26, 0.14322297480788657), (55, 0.14322297480788657), (363, 0.14322297480788657), (508, 0.14322297480788657), (515, 0.14322297480788657), (589, 0.14322297480788657), (634, 0.14322297480788657), (718, 0.14322297480788657), (16, 0.13801311186847084), (119, 0.13801311186847084), (179, 0.13801311186847084), (379, 0.13801311186847084), (600, 0.13801311186847084), (694, 0.13801311186847084), (728, 0.13801311186847084), (736, 0.13801311186847084), (5, 0.1333333333333333), (38, 0.1333333333333333), (157, 0.1333333333333333), (221, 0.1333333333333333), (294, 0.1333333333333333), (345, 0.1333333333333333), (389, 0.1333333333333333), (432, 0.1333333333333333), (529, 0.1333333333333333), (537, 0.1333333333333333), (553, 0.1333333333333333), (581, 0.1333333333333333), (593, 0.1333333333333333), (758, 0.1333333333333333), (770, 0.1333333333333333), (775, 0.1333333333333333), (969, 0.1333333333333333), (6, 0.12909944487358055), (8, 0.12909944487358055), (15, 0.12909944487358055), (65, 0.12909944487358055), (107, 0.12909944487358055), (203, 0.12909944487358055), (214, 0.12909944487358055), (224, 0.12909944487358055), (235, 0.12909944487358055), (388, 0.12909944487358055), (396, 0.12909944487358055), (450, 0.12909944487358055), (491, 0.12909944487358055), (560, 0.12909944487358055), (575, 0.12909944487358055), (626, 0.12909944487358055), (712, 0.12909944487358055), (779, 0.12909944487358055), (879, 0.12909944487358055), (916, 0.12909944487358055), (0, 0.12524485821702988), (171, 0.12524485821702988), (234, 0.12524485821702988), (279, 0.12524485821702988), (302, 0.12524485821702988), (316, 0.12524485821702988), (325, 0.12524485821702988), (384, 0.12524485821702988), (564, 0.12524485821702988), (827, 0.12524485821702988), (990, 0.12524485821702988), (50, 0.12171612389003691), (195, 0.12171612389003691), (216, 0.12171612389003691), (408, 0.12171612389003691), (578, 0.12171612389003691), (604, 0.12171612389003691), (609, 0.12171612389003691), (680, 0.12171612389003691), (710, 0.12171612389003691), (45, 0.11846977555181845), (62, 0.11846977555181845), (75, 0.11846977555181845), (114, 0.11846977555181845), (418, 0.11846977555181845), (473, 0.11846977555181845), (518, 0.11846977555181845), (566, 0.11846977555181845), (822, 0.11846977555181845), (978, 0.11846977555181845), (135, 0.11547005383792514), (209, 0.11547005383792514), (223, 0.11547005383792514), (264, 0.11547005383792514), (510, 0.11547005383792514), (806, 0.1126872339638022), (911, 0.1126872339638022), (308, 0.11009637651263604), (244, 0.10767638041163309), (629, 0.10767638041163309), (257, 0.10540925533894598), (430, 0.0778498944161523), (863, 0.0778498944161523), (33, 0.07453559924999299), (152, 0.07453559924999299), (255, 0.07453559924999299), (284, 0.07453559924999299), (317, 0.07453559924999299), (421, 0.07453559924999299), (437, 0.07453559924999299), (462, 0.07453559924999299), (605, 0.07453559924999299), (606, 0.07453559924999299), (631, 0.07453559924999299), (659, 0.07453559924999299), (678, 0.07453559924999299), (730, 0.07453559924999299), (740, 0.07453559924999299), (846, 0.07453559924999299), (890, 0.07453559924999299), (932, 0.07453559924999299), (13, 0.07161148740394328), (30, 0.07161148740394328), (49, 0.07161148740394328), (74, 0.07161148740394328), (87, 0.07161148740394328), (89, 0.07161148740394328), (91, 0.07161148740394328), (101, 0.07161148740394328), (106, 0.07161148740394328), (127, 0.07161148740394328), (169, 0.07161148740394328), (174, 0.07161148740394328), (175, 0.07161148740394328), (204, 0.07161148740394328), (228, 0.07161148740394328), (242, 0.07161148740394328), (256, 0.07161148740394328), (270, 0.07161148740394328), (275, 0.07161148740394328), (293, 0.07161148740394328), (295, 0.07161148740394328), (312, 0.07161148740394328), (330, 0.07161148740394328), (352, 0.07161148740394328), (390, 0.07161148740394328), (400, 0.07161148740394328), (401, 0.07161148740394328), (407, 0.07161148740394328), (416, 0.07161148740394328), (444, 0.07161148740394328), (448, 0.07161148740394328), (451, 0.07161148740394328), (499, 0.07161148740394328), (554, 0.07161148740394328), (623, 0.07161148740394328), (642, 0.07161148740394328), (654, 0.07161148740394328), (666, 0.07161148740394328), (675, 0.07161148740394328), (699, 0.07161148740394328), (729, 0.07161148740394328), (765, 0.07161148740394328), (786, 0.07161148740394328), (802, 0.07161148740394328), (824, 0.07161148740394328), (834, 0.07161148740394328), (856, 0.07161148740394328), (883, 0.07161148740394328), (920, 0.07161148740394328), (946, 0.07161148740394328), (951, 0.07161148740394328), (986, 0.07161148740394328), (4, 0.06900655593423542), (21, 0.06900655593423542), (23, 0.06900655593423542), (29, 0.06900655593423542), (40, 0.06900655593423542), (99, 0.06900655593423542), (117, 0.06900655593423542), (137, 0.06900655593423542), (140, 0.06900655593423542), (150, 0.06900655593423542), (164, 0.06900655593423542), (172, 0.06900655593423542), (178, 0.06900655593423542), (210, 0.06900655593423542), (212, 0.06900655593423542), (217, 0.06900655593423542), (226, 0.06900655593423542), (227, 0.06900655593423542), (232, 0.06900655593423542), (237, 0.06900655593423542), (241, 0.06900655593423542), (254, 0.06900655593423542), (274, 0.06900655593423542), (298, 0.06900655593423542), (318, 0.06900655593423542), (355, 0.06900655593423542), (369, 0.06900655593423542), (385, 0.06900655593423542), (391, 0.06900655593423542), (403, 0.06900655593423542), (412, 0.06900655593423542), (456, 0.06900655593423542), (472, 0.06900655593423542), (484, 0.06900655593423542), (512, 0.06900655593423542), (521, 0.06900655593423542), (540, 0.06900655593423542), (572, 0.06900655593423542), (577, 0.06900655593423542), (592, 0.06900655593423542), (597, 0.06900655593423542), (610, 0.06900655593423542), (625, 0.06900655593423542), (627, 0.06900655593423542), (663, 0.06900655593423542), (682, 0.06900655593423542), (687, 0.06900655593423542), (688, 0.06900655593423542), (691, 0.06900655593423542), (693, 0.06900655593423542), (707, 0.06900655593423542), (717, 0.06900655593423542), (721, 0.06900655593423542), (727, 0.06900655593423542), (755, 0.06900655593423542), (759, 0.06900655593423542), (760, 0.06900655593423542), (771, 0.06900655593423542), (787, 0.06900655593423542), (797, 0.06900655593423542), (805, 0.06900655593423542), (810, 0.06900655593423542), (815, 0.06900655593423542), (833, 0.06900655593423542), (855, 0.06900655593423542), (880, 0.06900655593423542), (897, 0.06900655593423542), (898, 0.06900655593423542), (929, 0.06900655593423542), (12, 0.06666666666666665), (22, 0.06666666666666665), (32, 0.06666666666666665), (42, 0.06666666666666665), (51, 0.06666666666666665), (54, 0.06666666666666665), (64, 0.06666666666666665), (70, 0.06666666666666665), (76, 0.06666666666666665), (80, 0.06666666666666665), (95, 0.06666666666666665), (97, 0.06666666666666665), (102, 0.06666666666666665), (116, 0.06666666666666665), (124, 0.06666666666666665), (125, 0.06666666666666665), (129, 0.06666666666666665), (131, 0.06666666666666665), (142, 0.06666666666666665), (190, 0.06666666666666665), (198, 0.06666666666666665), (205, 0.06666666666666665), (220, 0.06666666666666665), (249, 0.06666666666666665), (281, 0.06666666666666665), (283, 0.06666666666666665), (287, 0.06666666666666665), (297, 0.06666666666666665), (300, 0.06666666666666665), (323, 0.06666666666666665), (332, 0.06666666666666665), (358, 0.06666666666666665), (387, 0.06666666666666665), (404, 0.06666666666666665), (405, 0.06666666666666665), (414, 0.06666666666666665), (427, 0.06666666666666665), (454, 0.06666666666666665), (461, 0.06666666666666665), (469, 0.06666666666666665), (475, 0.06666666666666665), (481, 0.06666666666666665), (527, 0.06666666666666665), (528, 0.06666666666666665), (552, 0.06666666666666665), (555, 0.06666666666666665), (556, 0.06666666666666665), (563, 0.06666666666666665), (570, 0.06666666666666665), (576, 0.06666666666666665), (579, 0.06666666666666665), (603, 0.06666666666666665), (612, 0.06666666666666665), (661, 0.06666666666666665), (672, 0.06666666666666665), (673, 0.06666666666666665), (685, 0.06666666666666665), (705, 0.06666666666666665), (724, 0.06666666666666665), (733, 0.06666666666666665), (764, 0.06666666666666665), (774, 0.06666666666666665), (791, 0.06666666666666665), (794, 0.06666666666666665), (814, 0.06666666666666665), (819, 0.06666666666666665), (835, 0.06666666666666665), (854, 0.06666666666666665), (858, 0.06666666666666665), (869, 0.06666666666666665), (886, 0.06666666666666665), (887, 0.06666666666666665), (901, 0.06666666666666665), (924, 0.06666666666666665), (927, 0.06666666666666665), (934, 0.06666666666666665), (936, 0.06666666666666665), (940, 0.06666666666666665), (979, 0.06666666666666665), (993, 0.06666666666666665), (24, 0.06454972243679027), (37, 0.06454972243679027), (48, 0.06454972243679027), (85, 0.06454972243679027), (88, 0.06454972243679027), (112, 0.06454972243679027), (151, 0.06454972243679027), (154, 0.06454972243679027), (166, 0.06454972243679027), (197, 0.06454972243679027), (200, 0.06454972243679027), (215, 0.06454972243679027), (233, 0.06454972243679027), (238, 0.06454972243679027), (268, 0.06454972243679027), (271, 0.06454972243679027), (286, 0.06454972243679027), (296, 0.06454972243679027), (310, 0.06454972243679027), (326, 0.06454972243679027), (338, 0.06454972243679027), (357, 0.06454972243679027), (362, 0.06454972243679027), (367, 0.06454972243679027), (378, 0.06454972243679027), (433, 0.06454972243679027), (436, 0.06454972243679027), (460, 0.06454972243679027), (496, 0.06454972243679027), (516, 0.06454972243679027), (525, 0.06454972243679027), (550, 0.06454972243679027), (628, 0.06454972243679027), (657, 0.06454972243679027), (698, 0.06454972243679027), (706, 0.06454972243679027), (714, 0.06454972243679027), (732, 0.06454972243679027), (741, 0.06454972243679027), (762, 0.06454972243679027), (798, 0.06454972243679027), (799, 0.06454972243679027), (807, 0.06454972243679027), (852, 0.06454972243679027), (870, 0.06454972243679027), (878, 0.06454972243679027), (917, 0.06454972243679027), (919, 0.06454972243679027), (938, 0.06454972243679027), (941, 0.06454972243679027), (962, 0.06454972243679027), (963, 0.06454972243679027), (967, 0.06454972243679027), (982, 0.06454972243679027), (997, 0.06454972243679027), (61, 0.06262242910851494), (67, 0.06262242910851494), (82, 0.06262242910851494), (126, 0.06262242910851494), (132, 0.06262242910851494), (146, 0.06262242910851494), (163, 0.06262242910851494), (181, 0.06262242910851494), (243, 0.06262242910851494), (371, 0.06262242910851494), (395, 0.06262242910851494), (440, 0.06262242910851494), (447, 0.06262242910851494), (494, 0.06262242910851494), (568, 0.06262242910851494), (640, 0.06262242910851494), (708, 0.06262242910851494), (773, 0.06262242910851494), (784, 0.06262242910851494), (837, 0.06262242910851494), (864, 0.06262242910851494), (867, 0.06262242910851494), (871, 0.06262242910851494), (881, 0.06262242910851494), (903, 0.06262242910851494), (918, 0.06262242910851494), (939, 0.06262242910851494), (948, 0.06262242910851494), (991, 0.06262242910851494), (34, 0.06085806194501846), (35, 0.06085806194501846), (43, 0.06085806194501846), (60, 0.06085806194501846), (110, 0.06085806194501846), (156, 0.06085806194501846), (158, 0.06085806194501846), (162, 0.06085806194501846), (306, 0.06085806194501846), (366, 0.06085806194501846), (425, 0.06085806194501846), (429, 0.06085806194501846), (465, 0.06085806194501846), (507, 0.06085806194501846), (772, 0.06085806194501846), (893, 0.06085806194501846), (921, 0.06085806194501846), (925, 0.06085806194501846), (952, 0.06085806194501846), (961, 0.06085806194501846), (476, 0.059234887775909226), (500, 0.059234887775909226), (683, 0.059234887775909226), (953, 0.059234887775909226), (94, 0.05773502691896257), (260, 0.05773502691896257), (619, 0.05773502691896257), (632, 0.05773502691896257), (679, 0.05773502691896257), (935, 0.05773502691896257), (327, 0.0563436169819011), (380, 0.0563436169819011), (650, 0.0563436169819011), (745, 0.0563436169819011), (862, 0.0563436169819011), (950, 0.0563436169819011), (259, 0.05504818825631802), (1, 0.0), (2, 0.0), (3, 0.0), (7, 0.0), (9, 0.0), (10, 0.0), (11, 0.0), (14, 0.0), (17, 0.0), (18, 0.0), (19, 0.0), (20, 0.0), (25, 0.0), (27, 0.0), (28, 0.0), (31, 0.0), (36, 0.0), (39, 0.0), (41, 0.0), (44, 0.0), (46, 0.0), (47, 0.0), (52, 0.0), (53, 0.0), (56, 0.0), (57, 0.0), (58, 0.0), (59, 0.0), (63, 0.0), (66, 0.0), (68, 0.0), (69, 0.0), (71, 0.0), (72, 0.0), (73, 0.0), (77, 0.0), (79, 0.0), (81, 0.0), (83, 0.0), (84, 0.0), (86, 0.0), (90, 0.0), (93, 0.0), (96, 0.0), (98, 0.0), (100, 0.0), (103, 0.0), (105, 0.0), (108, 0.0), (109, 0.0), (111, 0.0), (113, 0.0), (115, 0.0), (118, 0.0), (120, 0.0), (121, 0.0), (122, 0.0), (123, 0.0), (128, 0.0), (130, 0.0), (133, 0.0), (134, 0.0), (136, 0.0), (138, 0.0), (139, 0.0), (141, 0.0), (143, 0.0), (144, 0.0), (145, 0.0), (147, 0.0), (148, 0.0), (153, 0.0), (155, 0.0), (159, 0.0), (160, 0.0), (161, 0.0), (165, 0.0), (167, 0.0), (168, 0.0), (170, 0.0), (173, 0.0), (177, 0.0), (180, 0.0), (182, 0.0), (183, 0.0), (184, 0.0), (185, 0.0), (186, 0.0), (187, 0.0), (188, 0.0), (189, 0.0), (191, 0.0), (192, 0.0), (193, 0.0), (194, 0.0), (196, 0.0), (199, 0.0), (201, 0.0), (202, 0.0), (206, 0.0), (207, 0.0), (208, 0.0), (211, 0.0), (213, 0.0), (218, 0.0), (219, 0.0), (222, 0.0), (225, 0.0), (229, 0.0), (230, 0.0), (231, 0.0), (236, 0.0), (240, 0.0), (245, 0.0), (246, 0.0), (247, 0.0), (248, 0.0), (250, 0.0), (251, 0.0), (252, 0.0), (258, 0.0), (261, 0.0), (262, 0.0), (263, 0.0), (265, 0.0), (266, 0.0), (267, 0.0), (269, 0.0), (272, 0.0), (273, 0.0), (276, 0.0), (277, 0.0), (278, 0.0), (280, 0.0), (282, 0.0), (285, 0.0), (288, 0.0), (289, 0.0), (290, 0.0), (291, 0.0), (292, 0.0), (299, 0.0), (301, 0.0), (304, 0.0), (305, 0.0), (307, 0.0), (309, 0.0), (311, 0.0), (315, 0.0), (319, 0.0), (320, 0.0), (321, 0.0), (322, 0.0), (328, 0.0), (329, 0.0), (331, 0.0), (333, 0.0), (334, 0.0), (335, 0.0), (336, 0.0), (337, 0.0), (339, 0.0), (340, 0.0), (341, 0.0), (342, 0.0), (343, 0.0), (346, 0.0), (347, 0.0), (348, 0.0), (349, 0.0), (350, 0.0), (351, 0.0), (353, 0.0), (354, 0.0), (356, 0.0), (359, 0.0), (360, 0.0), (361, 0.0), (364, 0.0), (365, 0.0), (370, 0.0), (372, 0.0), (373, 0.0), (374, 0.0), (375, 0.0), (376, 0.0), (377, 0.0), (381, 0.0), (382, 0.0), (383, 0.0), (386, 0.0), (392, 0.0), (393, 0.0), (394, 0.0), (397, 0.0), (398, 0.0), (399, 0.0), (402, 0.0), (406, 0.0), (409, 0.0), (410, 0.0), (411, 0.0), (413, 0.0), (415, 0.0), (417, 0.0), (419, 0.0), (420, 0.0), (422, 0.0), (423, 0.0), (424, 0.0), (426, 0.0), (428, 0.0), (431, 0.0), (434, 0.0), (435, 0.0), (438, 0.0), (439, 0.0), (441, 0.0), (442, 0.0), (443, 0.0), (445, 0.0), (446, 0.0), (449, 0.0), (452, 0.0), (453, 0.0), (455, 0.0), (457, 0.0), (458, 0.0), (459, 0.0), (463, 0.0), (464, 0.0), (466, 0.0), (467, 0.0), (468, 0.0), (470, 0.0), (471, 0.0), (474, 0.0), (477, 0.0), (478, 0.0), (479, 0.0), (480, 0.0), (482, 0.0), (483, 0.0), (485, 0.0), (486, 0.0), (487, 0.0), (488, 0.0), (489, 0.0), (490, 0.0), (492, 0.0), (493, 0.0), (495, 0.0), (497, 0.0), (498, 0.0), (501, 0.0), (502, 0.0), (503, 0.0), (504, 0.0), (505, 0.0), (506, 0.0), (509, 0.0), (511, 0.0), (513, 0.0), (514, 0.0), (517, 0.0), (519, 0.0), (520, 0.0), (522, 0.0), (523, 0.0), (524, 0.0), (526, 0.0), (530, 0.0), (531, 0.0), (532, 0.0), (533, 0.0), (534, 0.0), (535, 0.0), (536, 0.0), (538, 0.0), (539, 0.0), (541, 0.0), (542, 0.0), (543, 0.0), (544, 0.0), (545, 0.0), (546, 0.0), (547, 0.0), (548, 0.0), (549, 0.0), (551, 0.0), (557, 0.0), (559, 0.0), (561, 0.0), (562, 0.0), (565, 0.0), (567, 0.0), (569, 0.0), (571, 0.0), (573, 0.0), (574, 0.0), (580, 0.0), (582, 0.0), (583, 0.0), (584, 0.0), (585, 0.0), (586, 0.0), (587, 0.0), (588, 0.0), (590, 0.0), (591, 0.0), (594, 0.0), (595, 0.0), (596, 0.0), (598, 0.0), (599, 0.0), (601, 0.0), (602, 0.0), (607, 0.0), (608, 0.0), (611, 0.0), (614, 0.0), (615, 0.0), (616, 0.0), (617, 0.0), (618, 0.0), (620, 0.0), (621, 0.0), (622, 0.0), (624, 0.0), (630, 0.0), (633, 0.0), (635, 0.0), (636, 0.0), (637, 0.0), (638, 0.0), (639, 0.0), (641, 0.0), (643, 0.0), (644, 0.0), (645, 0.0), (646, 0.0), (647, 0.0), (648, 0.0), (649, 0.0), (651, 0.0), (652, 0.0), (653, 0.0), (655, 0.0), (656, 0.0), (658, 0.0), (660, 0.0), (662, 0.0), (664, 0.0), (665, 0.0), (667, 0.0), (668, 0.0), (669, 0.0), (670, 0.0), (671, 0.0), (674, 0.0), (676, 0.0), (677, 0.0), (681, 0.0), (684, 0.0), (686, 0.0), (689, 0.0), (690, 0.0), (692, 0.0), (695, 0.0), (696, 0.0), (697, 0.0), (700, 0.0), (701, 0.0), (702, 0.0), (703, 0.0), (704, 0.0), (709, 0.0), (711, 0.0), (713, 0.0), (715, 0.0), (716, 0.0), (719, 0.0), (720, 0.0), (722, 0.0), (723, 0.0), (725, 0.0), (726, 0.0), (731, 0.0), (734, 0.0), (735, 0.0), (737, 0.0), (738, 0.0), (742, 0.0), (743, 0.0), (744, 0.0), (746, 0.0), (747, 0.0), (748, 0.0), (749, 0.0), (750, 0.0), (751, 0.0), (752, 0.0), (753, 0.0), (754, 0.0), (756, 0.0), (757, 0.0), (761, 0.0), (763, 0.0), (766, 0.0), (768, 0.0), (769, 0.0), (776, 0.0), (777, 0.0), (778, 0.0), (780, 0.0), (781, 0.0), (782, 0.0), (783, 0.0), (785, 0.0), (788, 0.0), (789, 0.0), (790, 0.0), (792, 0.0), (793, 0.0), (795, 0.0), (796, 0.0), (800, 0.0), (801, 0.0), (803, 0.0), (804, 0.0), (808, 0.0), (809, 0.0), (811, 0.0), (812, 0.0), (813, 0.0), (816, 0.0), (817, 0.0), (818, 0.0), (820, 0.0), (823, 0.0), (825, 0.0), (826, 0.0), (828, 0.0), (829, 0.0), (830, 0.0), (831, 0.0), (832, 0.0), (836, 0.0), (838, 0.0), (839, 0.0), (840, 0.0), (841, 0.0), (842, 0.0), (844, 0.0), (845, 0.0), (847, 0.0), (848, 0.0), (849, 0.0), (850, 0.0), (851, 0.0), (853, 0.0), (857, 0.0), (859, 0.0), (860, 0.0), (861, 0.0), (865, 0.0), (866, 0.0), (868, 0.0), (872, 0.0), (873, 0.0), (874, 0.0), (875, 0.0), (876, 0.0), (877, 0.0), (882, 0.0), (884, 0.0), (885, 0.0), (888, 0.0), (889, 0.0), (891, 0.0), (892, 0.0), (894, 0.0), (895, 0.0), (896, 0.0), (899, 0.0), (900, 0.0), (902, 0.0), (904, 0.0), (905, 0.0), (906, 0.0), (907, 0.0), (908, 0.0), (909, 0.0), (910, 0.0), (912, 0.0), (913, 0.0), (914, 0.0), (915, 0.0), (922, 0.0), (923, 0.0), (926, 0.0), (928, 0.0), (930, 0.0), (931, 0.0), (933, 0.0), (937, 0.0), (942, 0.0), (943, 0.0), (944, 0.0), (945, 0.0), (947, 0.0), (949, 0.0), (954, 0.0), (955, 0.0), (956, 0.0), (957, 0.0), (958, 0.0), (959, 0.0), (960, 0.0), (964, 0.0), (965, 0.0), (966, 0.0), (968, 0.0), (970, 0.0), (971, 0.0), (972, 0.0), (973, 0.0), (974, 0.0), (975, 0.0), (976, 0.0), (977, 0.0), (980, 0.0), (981, 0.0), (983, 0.0), (984, 0.0), (985, 0.0), (987, 0.0), (988, 0.0), (989, 0.0), (992, 0.0), (994, 0.0), (995, 0.0), (996, 0.0), (998, 0.0), (999, 0.0)]\n"
          ]
        }
      ]
    },
    {
      "cell_type": "code",
      "source": [
        "#Create a loop to print the first 7 similary movies \n",
        "j = 0\n",
        "print('The 7 most recommended movies to ', title, 'are:\\n')\n",
        "for item in sorted_scores:\n",
        "  movie_title = df[df.Movie_id == item[0]]['Title'].values[0]\n",
        "  print(j+1, movie_title)\n",
        "  j = j+1\n",
        "  if j>6:\n",
        "    break"
      ],
      "metadata": {
        "colab": {
          "base_uri": "https://localhost:8080/"
        },
        "id": "1Fgn6Jz05B5f",
        "outputId": "e0ccf26f-b23d-4386-800e-1cf0663a6eff"
      },
      "execution_count": 26,
      "outputs": [
        {
          "output_type": "stream",
          "name": "stdout",
          "text": [
            "The 7 most recommended movies to  The Amazing Spider-Man are:\n",
            "\n",
            "1 The Amazing Spider-Man 2\n",
            "2 The Help\n",
            "3 Inferno\n",
            "4 The Host\n",
            "5 The House Bunny\n",
            "6 The Social Network\n",
            "7 Spider-Man 3\n"
          ]
        }
      ]
    }
  ]
}